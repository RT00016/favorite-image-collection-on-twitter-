{
 "cells": [
  {
   "cell_type": "code",
   "execution_count": null,
   "id": "79e3d3bf",
   "metadata": {},
   "outputs": [],
   "source": [
    "from requests_oauthlib import OAuth1Session\n",
    "from datetime import datetime\n",
    "from time import sleep\n",
    "import os.path\n",
    "import urllib.request as req\n",
    "import json\n",
    "\n",
    "\n",
    "user_id = #insert your twitter id\n",
    "CONSUMER_KEY = # these are spaces where you need to put TwitterAPI you have gotten  \n",
    "CONSUMER_SECRET = # these are spaces where you need to put TwitterAPI you have gotten\n",
    "ACCESS_TOKEN = # these are spaces where you need to put TwitterAPI you have gotten\n",
    "ACCESS_TOKEN_SECRET = # these are spaces where you need to put TwitterAPI you have gotten\n",
    "\n",
    "twitter = OAuth1Session(CONSUMER_KEY, CONSUMER_SECRET, ACCESS_TOKEN, ACCESS_TOKEN_SECRET)\n",
    "\n",
    "def save_img(tweet_json, save_dir):\n",
    "    if not os.path.exists(save_dir): os.makedirs(save_dir)\n",
    "    \n",
    "    for tweet in tweet_json:\n",
    "        name = tweet['user']['screen_name']\n",
    "        favo = tweet['favorite_count']\n",
    "        date = tweet['created_at']\n",
    "        date = date.replace(\" +0000\",\"\")\n",
    "        \n",
    "        try:\n",
    "            media_list = tweet['entities']['media']\n",
    "            for img in media_list:\n",
    "                img_url = img['media_url']\n",
    "                path = save_dir + \"/[\" + str(name) + \"]_\" + str(date) + \".jpg\"\n",
    "                req.urlretrieve(img_url, path)\n",
    "                \n",
    "        except Exception as e:\n",
    "            print(\"something Error happen\")\n",
    "                    \n",
    "    \n",
    "\n",
    "\n",
    "\n",
    "\n",
    "url = \"https://api.twitter.com/1.1/favorites/list.json\"\n",
    "params = {'screen_name': user_id, 'count': 200}\n",
    "res = twitter.get(url, params = params)\n",
    "\n",
    "if res.status_code == 200:\n",
    "    r = json.loads(res.text)\n",
    "    print(r[0][\"id\"])\n",
    "    print(r[-1][\"id\"])\n",
    "    \n",
    "    \n",
    "save_img(r, \"./savefile\")"
   ]
  }
 ],
 "metadata": {
  "kernelspec": {
   "display_name": "Python 3",
   "language": "python",
   "name": "python3"
  },
  "language_info": {
   "codemirror_mode": {
    "name": "ipython",
    "version": 3
   },
   "file_extension": ".py",
   "mimetype": "text/x-python",
   "name": "python",
   "nbconvert_exporter": "python",
   "pygments_lexer": "ipython3",
   "version": "3.8.8"
  }
 },
 "nbformat": 4,
 "nbformat_minor": 5
}
